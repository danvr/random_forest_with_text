{
 "cells": [
  {
   "cell_type": "code",
   "execution_count": 1,
   "metadata": {},
   "outputs": [],
   "source": [
    "import numpy as np\n",
    "import pandas as pd\n",
    "import urllib\n",
    "import requests\n",
    "from requests.exceptions import HTTPError\n",
    "from lxml import html\n",
    "from bs4 import BeautifulSoup\n",
    "import re"
   ]
  },
  {
   "cell_type": "code",
   "execution_count": 2,
   "metadata": {},
   "outputs": [],
   "source": [
    "def get_html_page(base_url):\n",
    "    base_url = base_url\n",
    "    page  = requests.get(base_url)\n",
    "    soup = BeautifulSoup(page.text, 'html.parser')\n",
    "    return soup\n",
    "\n",
    "\n",
    "def create_url_list_from_soup(soup):\n",
    "    url_page_list = []\n",
    "    for url in soup.find_all(class_=\"img-holder\"):\n",
    "        url_page_list.append(url.get('href'))\n",
    "    return url_page_list\n",
    "\n",
    "\n",
    "def get_book_info(book_url):\n",
    "    book_page = get_html_page(book_url)\n",
    "    book_page_text = book_page.find_all('div', class_='entry-content clearfix single-post-content')[0].find_all('p')[0].get_text()\n",
    "    book_description_text = book_page.find_all('div', class_='entry-content clearfix single-post-content')[0].find_all('p')[1].get_text()[9:]\n",
    "    print(book_url)\n",
    "    book_info = {\n",
    "    'title': re.search('\\s(\\D+)\\sAutor:',book_page_text).group(1),\n",
    "#     'author': re.search('Autor:\\s(\\D+)\\sInstituição:',book_page_text).group(1),\n",
    "    'year': re.search('Ano:\\s(\\d+)',book_page_text).group(1),\n",
    "    'description': book_description_text\n",
    "}   \n",
    "    return book_info\n",
    "\n",
    "def get_pagination_list(base_url):\n",
    "    url_pagination_list = []\n",
    "    soup = get_html_page(base_url)\n",
    "    url_pagination = soup.find_all('a','next',\"page-numbers\")[0].get('href')\n",
    "    \n",
    "    \n",
    "\n",
    "    "
   ]
  },
  {
   "cell_type": "code",
   "execution_count": 3,
   "metadata": {},
   "outputs": [],
   "source": [
    "books_data = pd.DataFrame(columns=['title','year','description'])"
   ]
  },
  {
   "cell_type": "code",
   "execution_count": 4,
   "metadata": {},
   "outputs": [
    {
     "name": "stdout",
     "output_type": "stream",
     "text": [
      "https://www.baixelivros.com.br/aventura/abutres-humanos\n",
      "https://www.baixelivros.com.br/aventura/colarinho-branco\n",
      "https://www.baixelivros.com.br/aventura/o-salario-terrivel\n",
      "https://www.baixelivros.com.br/aventura/o-filho-do-impostor\n",
      "https://www.baixelivros.com.br/aventura/protecao-a-testemunha\n",
      "https://www.baixelivros.com.br/aventura/voo-noturno\n",
      "https://www.baixelivros.com.br/aventura/o-templo-misterioso-pdf\n",
      "https://www.baixelivros.com.br/aventura/horas-de-terror-pdf\n",
      "https://www.baixelivros.com.br/aventura/no-paco-da-morte-pdf\n",
      "https://www.baixelivros.com.br/aventura/da-terra-a-lua-pdf\n",
      "https://www.baixelivros.com.br/aventura/20-000-leguas-submarinas-pdf\n",
      "https://www.baixelivros.com.br/aventura/a-volta-ao-mundo-em-oitenta-dias-pdf\n",
      "https://www.baixelivros.com.br/aventura/viagem-ao-centro-da-terra-pdf\n",
      "https://www.baixelivros.com.br/aventura/a-visita-do-diabo-marty\n",
      "https://www.baixelivros.com.br/aventura/a-morte-e-sua-companheira-adam\n",
      "https://www.baixelivros.com.br/aventura/a-diligencia-do-alem-davis\n",
      "https://www.baixelivros.com.br/aventura/fibra-de-heroi-estefania\n",
      "https://www.baixelivros.com.br/aventura/mulheres-vendidas-lumas\n",
      "https://www.baixelivros.com.br/aventura/a-lei-dos-pistoleiros-estefania\n",
      "https://www.baixelivros.com.br/aventura/compromisso-de-honra-frank\n",
      "https://www.baixelivros.com.br/aventura/vassalos-da-destruicao-pdf\n",
      "https://www.baixelivros.com.br/aventura/os-dissolutos-pdf\n",
      "https://www.baixelivros.com.br/aventura/um-revolver-para-uma-dama-pdf\n",
      "https://www.baixelivros.com.br/aventura/quando-as-mulheres-atiram-pdf\n",
      "https://www.baixelivros.com.br/aventura/ouro-sangrento-pdf\n",
      "https://www.baixelivros.com.br/aventura/gosto-de-polvora-pdf\n",
      "https://www.baixelivros.com.br/aventura/rio-do-odio-pdf\n",
      "https://www.baixelivros.com.br/aventura/uma-forca-a-sua-espera-pdf\n",
      "https://www.baixelivros.com.br/aventura/oeste-vermelho-pdf\n",
      "https://www.baixelivros.com.br/aventura/lua-comanche-pdf\n"
     ]
    }
   ],
   "source": [
    "for page in range(1,4):\n",
    "    base_url = 'https://www.baixelivros.com.br/biblioteca/aventura/page/{}'.format(page)\n",
    "    \n",
    "    page = get_html_page(base_url)\n",
    "\n",
    "    book_url_list = create_url_list_from_soup(page)\n",
    "    \n",
    "    for book_url in book_url_list:\n",
    "        book_info = get_book_info(book_url)\n",
    "\n",
    "        books_data = books_data.append(book_info,ignore_index=True)"
   ]
  },
  {
   "cell_type": "code",
   "execution_count": 5,
   "metadata": {
    "scrolled": true
   },
   "outputs": [
    {
     "data": {
      "text/html": [
       "<div>\n",
       "<style scoped>\n",
       "    .dataframe tbody tr th:only-of-type {\n",
       "        vertical-align: middle;\n",
       "    }\n",
       "\n",
       "    .dataframe tbody tr th {\n",
       "        vertical-align: top;\n",
       "    }\n",
       "\n",
       "    .dataframe thead th {\n",
       "        text-align: right;\n",
       "    }\n",
       "</style>\n",
       "<table border=\"1\" class=\"dataframe\">\n",
       "  <thead>\n",
       "    <tr style=\"text-align: right;\">\n",
       "      <th></th>\n",
       "      <th>title</th>\n",
       "      <th>year</th>\n",
       "      <th>description</th>\n",
       "    </tr>\n",
       "  </thead>\n",
       "  <tbody>\n",
       "    <tr>\n",
       "      <th>0</th>\n",
       "      <td>Abutres Humanos</td>\n",
       "      <td>2007</td>\n",
       "      <td>O fim da Guerra de Secessão transformara o Sul...</td>\n",
       "    </tr>\n",
       "    <tr>\n",
       "      <th>1</th>\n",
       "      <td>Colarinho Branco</td>\n",
       "      <td>1980</td>\n",
       "      <td>O gabinete do senador Henrique Portela atraves...</td>\n",
       "    </tr>\n",
       "    <tr>\n",
       "      <th>2</th>\n",
       "      <td>O Salário Terrível</td>\n",
       "      <td>1969</td>\n",
       "      <td>Uma rememoração da primeira missão da agente B...</td>\n",
       "    </tr>\n",
       "    <tr>\n",
       "      <th>3</th>\n",
       "      <td>O Filho do Impostor</td>\n",
       "      <td>1978</td>\n",
       "      <td>No decorrer da história ele acaba se envolvend...</td>\n",
       "    </tr>\n",
       "    <tr>\n",
       "      <th>4</th>\n",
       "      <td>Proteção à Testemunha</td>\n",
       "      <td>2015</td>\n",
       "      <td>Mari é uma jovem que esta vivendo nesta situaç...</td>\n",
       "    </tr>\n",
       "  </tbody>\n",
       "</table>\n",
       "</div>"
      ],
      "text/plain": [
       "                   title  year  \\\n",
       "0        Abutres Humanos  2007   \n",
       "1       Colarinho Branco  1980   \n",
       "2     O Salário Terrível  1969   \n",
       "3    O Filho do Impostor  1978   \n",
       "4  Proteção à Testemunha  2015   \n",
       "\n",
       "                                         description  \n",
       "0  O fim da Guerra de Secessão transformara o Sul...  \n",
       "1  O gabinete do senador Henrique Portela atraves...  \n",
       "2  Uma rememoração da primeira missão da agente B...  \n",
       "3  No decorrer da história ele acaba se envolvend...  \n",
       "4  Mari é uma jovem que esta vivendo nesta situaç...  "
      ]
     },
     "execution_count": 5,
     "metadata": {},
     "output_type": "execute_result"
    }
   ],
   "source": [
    "books_data.head()"
   ]
  },
  {
   "cell_type": "code",
   "execution_count": 7,
   "metadata": {},
   "outputs": [],
   "source": [
    "books_data.to_excel('livros.xlsx')"
   ]
  },
  {
   "cell_type": "code",
   "execution_count": 6,
   "metadata": {},
   "outputs": [],
   "source": [
    "from sklearn.feature_extraction.text import TfidfVectorizer"
   ]
  },
  {
   "cell_type": "code",
   "execution_count": 264,
   "metadata": {
    "scrolled": true
   },
   "outputs": [],
   "source": [
    "corpus  = books_data['description']\n",
    "\n",
    "vectorizer = TfidfVectorizer(min_df=2,ngram_range=(1,4))\n",
    "X = vectorizer.fit_transform(corpus)\n",
    "vocabulary = vectorizer.vocabulary_"
   ]
  },
  {
   "cell_type": "code",
   "execution_count": 265,
   "metadata": {},
   "outputs": [
    {
     "data": {
      "text/plain": [
       "<30x132 sparse matrix of type '<class 'numpy.float64'>'\n",
       "\twith 526 stored elements in Compressed Sparse Row format>"
      ]
     },
     "execution_count": 265,
     "metadata": {},
     "output_type": "execute_result"
    }
   ],
   "source": [
    "X"
   ]
  },
  {
   "cell_type": "code",
   "execution_count": 280,
   "metadata": {},
   "outputs": [],
   "source": [
    "from scipy.sparse import hstack, vstack\n",
    "\n",
    "Xtrain_wtitle = hstack([X,data])"
   ]
  },
  {
   "cell_type": "code",
   "execution_count": 278,
   "metadata": {},
   "outputs": [],
   "source": [
    "data = books_data.year.astype('int').to_frame()"
   ]
  },
  {
   "cell_type": "code",
   "execution_count": 281,
   "metadata": {},
   "outputs": [
    {
     "data": {
      "text/plain": [
       "<30x133 sparse matrix of type '<class 'numpy.float64'>'\n",
       "\twith 556 stored elements in COOrdinate format>"
      ]
     },
     "execution_count": 281,
     "metadata": {},
     "output_type": "execute_result"
    }
   ],
   "source": [
    "Xtrain_wtitle."
   ]
  },
  {
   "cell_type": "code",
   "execution_count": null,
   "metadata": {},
   "outputs": [],
   "source": []
  }
 ],
 "metadata": {
  "kernelspec": {
   "display_name": "Python 3",
   "language": "python",
   "name": "python3"
  },
  "language_info": {
   "codemirror_mode": {
    "name": "ipython",
    "version": 3
   },
   "file_extension": ".py",
   "mimetype": "text/x-python",
   "name": "python",
   "nbconvert_exporter": "python",
   "pygments_lexer": "ipython3",
   "version": "3.7.6"
  }
 },
 "nbformat": 4,
 "nbformat_minor": 2
}
